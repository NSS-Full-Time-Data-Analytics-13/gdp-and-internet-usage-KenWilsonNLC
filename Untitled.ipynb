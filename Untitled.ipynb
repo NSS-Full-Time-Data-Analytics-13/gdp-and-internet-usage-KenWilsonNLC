{
 "cells": [
  {
   "cell_type": "code",
   "execution_count": null,
   "id": "dd0dd9bf-fa33-48e4-a7b8-d5a706505b43",
   "metadata": {},
   "outputs": [],
   "source": [
    "import pandas as pd   \n",
    "import numpy as np  \n",
    "import matplotlib.pyplot as plt  \n",
    "import seaborn as sns"
   ]
  },
  {
   "cell_type": "markdown",
   "id": "d5ca371c-893c-46b4-8b85-d5715afe40df",
   "metadata": {},
   "source": [
    "4.\tUsing the pandas `read_csv()` method, read the GDP dataset into your notebook as a DataFrame called `gdp_df`. \n",
    "Take a look at the first few and last few rows to familiarize yourself with what is contained in this dataset."
   ]
  },
  {
   "cell_type": "code",
   "execution_count": null,
   "id": "b459fe2d-1bfa-4438-9726-d4681a38e5c5",
   "metadata": {},
   "outputs": [],
   "source": [
    "gdp_df = pd.read_csv(r'C:\\Users\\kite7\\Desktop\\NSS Course Materials\\PYTHON\\projects\\data\\gdp_percapita.csv\\gdp_percapita.csv.csv')\n"
   ]
  },
  {
   "cell_type": "code",
   "execution_count": null,
   "id": "d1164e81-bd40-421f-a986-03b3ec5e98ac",
   "metadata": {},
   "outputs": [],
   "source": [
    "gdp_df.head"
   ]
  },
  {
   "cell_type": "code",
   "execution_count": null,
   "id": "8efe148f-a51d-4d36-9af2-ebc63c415b09",
   "metadata": {},
   "outputs": [],
   "source": [
    "gdp_df.tail"
   ]
  },
  {
   "cell_type": "markdown",
   "id": "462cff80-2dc5-404e-a4c7-5e44801ce61c",
   "metadata": {},
   "source": [
    "5. How many rows and columns are in `gdp_df`? What are the data types of each column?"
   ]
  },
  {
   "cell_type": "markdown",
   "id": "94134179-8e81-4f09-a08f-3b854ad84a47",
   "metadata": {},
   "source": [
    "[7662 rows x 4 columns] Country or Area = object, Year = int64, Value = float64, Value footnotes = float64"
   ]
  },
  {
   "cell_type": "code",
   "execution_count": null,
   "id": "93d19ff5-0323-4f58-9175-4c0bcc1b7fd7",
   "metadata": {},
   "outputs": [],
   "source": [
    "gdp_df.info()"
   ]
  },
  {
   "cell_type": "markdown",
   "id": "26cc889e-ceb1-4fee-9a7b-5b71e053eb5e",
   "metadata": {},
   "source": [
    "6. Drop the `Value Footnotes` column and rename the remaining three to 'Country', 'Year', and 'GDP_Per_Capita'."
   ]
  },
  {
   "cell_type": "code",
   "execution_count": null,
   "id": "c12ac53e-1bcd-4682-b6b2-70fbef069dd4",
   "metadata": {},
   "outputs": [],
   "source": [
    "gdp_df = gdp_df.drop(columns = ['Value Footnotes'])"
   ]
  },
  {
   "cell_type": "code",
   "execution_count": null,
   "id": "270b28f1-ab0d-47ab-8284-8c88adfecef3",
   "metadata": {},
   "outputs": [],
   "source": [
    "gdp_df.head"
   ]
  },
  {
   "cell_type": "code",
   "execution_count": null,
   "id": "315d3d71-4541-44ad-ac90-0f3a79459d0c",
   "metadata": {},
   "outputs": [],
   "source": [
    "gdp_df.columns"
   ]
  },
  {
   "cell_type": "code",
   "execution_count": null,
   "id": "e3a386a9-5303-45e0-b1b8-4db3a5dfd1f6",
   "metadata": {},
   "outputs": [],
   "source": [
    "gdp_df.columns = ['Country', 'Year','GDP_Per_Capita']"
   ]
  },
  {
   "cell_type": "code",
   "execution_count": null,
   "id": "f6050d14-4736-4347-b708-845720fcdfdb",
   "metadata": {},
   "outputs": [],
   "source": [
    "gdp_df.head"
   ]
  },
  {
   "cell_type": "markdown",
   "id": "1e4ae325-c57d-4a0c-af56-0856c4c7ca86",
   "metadata": {},
   "source": [
    "7. How many countries have data for all years? Which countries are missing many years of data? Look at the number of observations per year.\n",
    "What do you notice?"
   ]
  },
  {
   "cell_type": "code",
   "execution_count": null,
   "id": "318153f4-3758-4640-bbbf-186ddd87fa7e",
   "metadata": {},
   "outputs": [],
   "source": [
    "gdp_df.Country.value_counts()"
   ]
  },
  {
   "cell_type": "code",
   "execution_count": null,
   "id": "59c57c19-bd39-4033-b6fa-c13207c12a5e",
   "metadata": {},
   "outputs": [],
   "source": [
    "gdp_df.Year.value_counts()"
   ]
  },
  {
   "cell_type": "markdown",
   "id": "707a1359-a150-4086-b510-359b8bba1942",
   "metadata": {},
   "source": [
    "The number of oberservations have gone up every year."
   ]
  },
  {
   "cell_type": "markdown",
   "id": "4aab470c-5772-4f5b-b842-a81659f7702e",
   "metadata": {},
   "source": [
    "Which countries are missing many years of data?"
   ]
  },
  {
   "cell_type": "code",
   "execution_count": null,
   "id": "319f367f-2870-471d-ac90-6c43c6d6e288",
   "metadata": {},
   "outputs": [],
   "source": [
    "gdp_df.isnull().sum()"
   ]
  },
  {
   "cell_type": "markdown",
   "id": "63bcd085-64c5-46e7-884a-5be451558a7c",
   "metadata": {},
   "source": [
    "No countries have null values."
   ]
  },
  {
   "cell_type": "markdown",
   "id": "1ef08b6b-8ceb-487a-b68a-589be89cea2e",
   "metadata": {},
   "source": [
    "8. In this question, you're going to create some plots to show the distribution of GDP per capita for the year 2020. \n",
    "Go to the Python Graph Gallery (https://www.python-graph-gallery.com/) and look at the different types of plots under the Distribution section.\n",
    "Create a histogram, a density plot, a boxplot, and a violin plot. What do you notice when you look at these plots? \n",
    "How do the plots compare and what information can you get out of one type that you can't necessarily get out of the others?"
   ]
  },
  {
   "cell_type": "code",
   "execution_count": null,
   "id": "55312a69-50d9-4122-ac9b-6eacb6dbe413",
   "metadata": {},
   "outputs": [],
   "source": [
    "\n",
    "sns.displot(x='Year', y='GDP_Per_Capita', data = gdp_df)"
   ]
  },
  {
   "cell_type": "code",
   "execution_count": null,
   "id": "fb471bad-612e-4e36-acfb-49b0f966f56a",
   "metadata": {},
   "outputs": [],
   "source": [
    "sns.kdeplot(x='Year', y='GDP_Per_Capita', data = gdp_df)"
   ]
  },
  {
   "cell_type": "code",
   "execution_count": null,
   "id": "6f906a02-acf5-4039-a5f1-99094e460116",
   "metadata": {},
   "outputs": [],
   "source": [
    "sns.boxplot(x='Year', y='GDP_Per_Capita', data = gdp_df)"
   ]
  },
  {
   "cell_type": "code",
   "execution_count": null,
   "id": "97531427-e356-486d-8da5-acc85dbc731b",
   "metadata": {},
   "outputs": [],
   "source": [
    "sns.violinplot(x='Year', y='GDP_Per_Capita', data = gdp_df)"
   ]
  },
  {
   "cell_type": "markdown",
   "id": "d5c66153-663e-432b-ab7e-d5a67bfa2cbe",
   "metadata": {},
   "source": [
    "What do you notice when you look at these plots? How do the plots compare and what information can you get out of one type\n",
    "that you can't necessarily get out of the others?\n",
    "\n",
    "GDP per capita was highest between 2010 and 2015. Each type of graph shows the same general rises and falls in the information, but\n",
    "the box plot best demstrates the median distribution of the numerical information best. The histogram does a better job of showing where the majority\n",
    "of values lie on the graph."
   ]
  },
  {
   "cell_type": "markdown",
   "id": "7a834e31-acd6-436c-8a12-6a0ec90019a9",
   "metadata": {},
   "source": [
    "9. What was the median GDP per capita value in 2020?"
   ]
  },
  {
   "cell_type": "code",
   "execution_count": null,
   "id": "43a82d5c-bee2-46ba-b14f-a55959e6abf0",
   "metadata": {},
   "outputs": [],
   "source": [
    "gdp_df"
   ]
  },
  {
   "cell_type": "code",
   "execution_count": null,
   "id": "76189e18-6427-47bb-a719-cbe896379b9b",
   "metadata": {},
   "outputs": [],
   "source": [
    "import numpy as np"
   ]
  },
  {
   "cell_type": "code",
   "execution_count": null,
   "id": "766498fe-40f4-4c07-9049-b33d0e5273f2",
   "metadata": {},
   "outputs": [],
   "source": [
    "median_gdp_2020 = gdp_df.loc[gdp_df['Year'] == 2020, 'GDP_Per_Capita'].median()"
   ]
  },
  {
   "cell_type": "code",
   "execution_count": null,
   "id": "ed91ed8a-187a-46f1-b6ee-79e68a2eeae6",
   "metadata": {},
   "outputs": [],
   "source": [
    "median_gdp_2020"
   ]
  },
  {
   "cell_type": "markdown",
   "id": "88f33a66-9a30-4caf-82df-44d0d295d74f",
   "metadata": {},
   "source": [
    "10. For this question, you're going to create some visualizations to compare GDP per capita values for the years 1990, 2000, 2010,\n",
    "and 2020. Start by subsetting your data to just these 4 years into a new DataFrame named gdp_decades. Using this, create the following 4 plots:\n",
    "\t* A boxplot\n",
    "\t* A barplot (check out the Barplot with Seaborn section: https://www.python-graph-gallery.com/barplot/#Seaborn)\n",
    "\t* A scatterplot\n",
    "\t* A scatterplot with a trend line overlaid (see this regplot example: https://www.python-graph-gallery.com/42-custom-linear-regression-fit-seaborn) "
   ]
  },
  {
   "cell_type": "code",
   "execution_count": null,
   "id": "ee7fc372-f699-4f31-97d0-dec1b18ba681",
   "metadata": {},
   "outputs": [],
   "source": [
    "years_of_interest = [1990, 2000, 2010, 2020]\n",
    "filtered_gdp_df = gdp_df[gdp_df['Year'].isin(years_of_interest)]"
   ]
  },
  {
   "cell_type": "code",
   "execution_count": null,
   "id": "43d2a9a6-a04b-47c6-adf7-dea8fbd96d26",
   "metadata": {},
   "outputs": [],
   "source": [
    "plt.figure(figsize=(8, 6))\n",
    "sns.boxplot(x='Year', y='GDP_Per_Capita', data=filtered_gdp_df)\n",
    "plt.title('Box Plot of GDP Per Capita for Selected Years')\n",
    "plt.xlabel('Year')\n",
    "plt.ylabel('GDP Per Capita')\n",
    "plt.show()"
   ]
  },
  {
   "cell_type": "code",
   "execution_count": null,
   "id": "b25c2a29-016b-4d6c-ab8b-1e6ef96e1950",
   "metadata": {},
   "outputs": [],
   "source": [
    "plt.figure(figsize=(8, 6))\n",
    "sns.barplot(x='Year', y='GDP_Per_Capita', data=filtered_gdp_df)\n",
    "plt.title('Bar Plot of GDP Per Capita for Selected Years')\n",
    "plt.xlabel('Year')\n",
    "plt.ylabel('GDP Per Capita')\n",
    "plt.show()"
   ]
  },
  {
   "cell_type": "code",
   "execution_count": null,
   "id": "b25c9e08-bf01-4b5c-9dce-488e38d91175",
   "metadata": {},
   "outputs": [],
   "source": [
    "plt.figure(figsize=(8, 6))\n",
    "sns.scatterplot(x='Year', y='GDP_Per_Capita', data=filtered_gdp_df)\n",
    "plt.title('Scatter Plot of GDP Per Capita for Selected Years')\n",
    "plt.xlabel('Year')\n",
    "plt.ylabel('GDP Per Capita')\n",
    "plt.show()"
   ]
  },
  {
   "cell_type": "code",
   "execution_count": null,
   "id": "d7021a6a-5312-4706-897a-72d51de42b39",
   "metadata": {},
   "outputs": [],
   "source": [
    "plt.figure(figsize=(10, 6))\n",
    "sns.scatterplot(x='Year', y='GDP_Per_Capita', data=filtered_gdp_df)\n",
    "sns.lineplot(x='Year', y='GDP_Per_Capita', data=filtered_gdp_df, color='red', estimator='mean', linewidth=2)\n",
    "plt.title('Box Plot with Mean Trend Line of GDP Per Capita for Selected Years')\n",
    "plt.xlabel('Year')\n",
    "plt.ylabel('GDP Per Capita')\n",
    "plt.show()"
   ]
  },
  {
   "cell_type": "markdown",
   "id": "8d21d5ce-023d-4d27-afc2-7b76d2e21ce6",
   "metadata": {},
   "source": [
    "11. Which country was the first to have a GDP per capita greater than $100,000?"
   ]
  },
  {
   "cell_type": "code",
   "execution_count": null,
   "id": "b3027d95-f734-4b98-95c1-cac86ba3d095",
   "metadata": {},
   "outputs": [],
   "source": [
    "first_country_above_100000 = gdp_df.loc[gdp_df['GDP_Per_Capita'] > 100000, 'Country'].iloc[0]"
   ]
  },
  {
   "cell_type": "code",
   "execution_count": null,
   "id": "806bc56a-51c8-495b-8424-c6b8310e2cba",
   "metadata": {},
   "outputs": [],
   "source": [
    "first_country_above_100000\n"
   ]
  },
  {
   "cell_type": "markdown",
   "id": "8eb39076-dadc-40e4-a0de-92355a3c6cbc",
   "metadata": {},
   "source": [
    "\n",
    "Ireland was the first to have a GDP per capita greater than $100,000."
   ]
  },
  {
   "cell_type": "markdown",
   "id": "93c0c035-09f9-4ac6-bee9-833a4fdc765b",
   "metadata": {},
   "source": [
    "12. Which country had the highest GDP per capita in 2020? Create a plot showing how this country's GDP per capita has changed over \n",
    "the timespan of the dataset."
   ]
  },
  {
   "cell_type": "code",
   "execution_count": null,
   "id": "ce209c46-7a2a-4361-b0ab-1849cea011ae",
   "metadata": {},
   "outputs": [],
   "source": [
    "gdp_2020 = gdp_df[gdp_df['Year'] == 2020]\n",
    "country_highest_gdp_2020 = gdp_2020.loc[gdp_2020['GDP_Per_Capita'].idxmax(), 'Country']"
   ]
  },
  {
   "cell_type": "code",
   "execution_count": null,
   "id": "70f73795-95ae-4157-bb11-1339ee7cc165",
   "metadata": {},
   "outputs": [],
   "source": [
    "country_highest_gdp_2020"
   ]
  },
  {
   "cell_type": "markdown",
   "id": "2e32becf-df56-4a5f-9523-ba96d798c0e8",
   "metadata": {},
   "source": [
    "Luxembourg had the highest GDP per capita in 2020."
   ]
  },
  {
   "cell_type": "code",
   "execution_count": null,
   "id": "849b4464-8beb-4cba-9fa7-a7646eb5734a",
   "metadata": {},
   "outputs": [],
   "source": [
    "luxembourg_data = gdp_df[(gdp_df['Country'] == 'Luxembourg') & (gdp_df['Year'].between(1990, 2020))]\n",
    "\n",
    "plt.figure(figsize=(10, 6))\n",
    "plt.plot(luxembourg_data['Year'], luxembourg_data['GDP_Per_Capita'], marker='o', linestyle='-', color='b')\n",
    "plt.title('Luxembourg (1990-2020)')\n",
    "plt.xlabel('Year')\n",
    "plt.ylabel('GDP Per Capita')\n",
    "plt.grid(True)\n",
    "plt.show()"
   ]
  },
  {
   "cell_type": "markdown",
   "id": "90b332d8-d1dc-462b-9247-c65196c10003",
   "metadata": {},
   "source": [
    "13. Which country had the lowest GDP per capita in 2020? Create a plot showing how this country's GDP per capita has changed over the timespan \n",
    "of the dataset. **Bonus question:** Is it true in general that coutries had a higher GDP per capita in 2020 than in 1990? \n",
    "Which countries had lower GDP per capita in 2020 than in 1990?"
   ]
  },
  {
   "cell_type": "code",
   "execution_count": null,
   "id": "dd751320-752e-4526-9fde-f1649bd3607d",
   "metadata": {},
   "outputs": [],
   "source": [
    "gdp_2020 = gdp_df[gdp_df['Year'] == 2020]\n",
    "country_lowestest_gdp_2020 = gdp_2020.loc[gdp_2020['GDP_Per_Capita'].idxmin(), 'Country']"
   ]
  },
  {
   "cell_type": "code",
   "execution_count": null,
   "id": "3e92c420-4a9c-4b8b-aa61-abf18292177b",
   "metadata": {},
   "outputs": [],
   "source": [
    "country_lowestest_gdp_2020"
   ]
  },
  {
   "cell_type": "markdown",
   "id": "db2a7032-5c1a-4605-ba72-3d1dadc6fafa",
   "metadata": {},
   "source": [
    "Burundi had the lowest GDP per capita in 2020."
   ]
  },
  {
   "cell_type": "markdown",
   "id": "852cfc2b-4b36-4881-8853-3a2e5bbd640e",
   "metadata": {},
   "source": [
    "14. Read in the internet use dataset into a DataFrame named `internet_df`. You will likely get errors when doing this. Check the arguments \n",
    "for the read_csv function to find ones that can help correct the errors (https://pandas.pydata.org/docs/reference/api/pandas.read_csv.html)\n",
    "Once you are able to read it in, take per a look at the top and bottom few rows to make sure that it has been read in correctly.\n",
    "Also, check the datatypes of the columns."
   ]
  },
  {
   "cell_type": "code",
   "execution_count": null,
   "id": "738e06be-b738-4df8-9678-05a7aec89d7f",
   "metadata": {},
   "outputs": [],
   "source": [
    "\n",
    "internet_df = pd.read_csv(r'C:\\Users\\kite7\\Desktop\\NSS Course Materials\\PYTHON\\projects\\data\\internet_use.csv\\internet_use.csv.csv',nrows = 6083)\n"
   ]
  },
  {
   "cell_type": "code",
   "execution_count": null,
   "id": "d9e32652-8ae5-4072-abd6-cbc26aacdb24",
   "metadata": {},
   "outputs": [],
   "source": [
    "internet_df.head"
   ]
  },
  {
   "cell_type": "markdown",
   "id": "1f94b21f-8a37-461b-b129-85366832d8cd",
   "metadata": {},
   "source": [
    "15. Drop the `Value Footnotes` column and rename the remaining three to 'Country', 'Year', and 'Internet_Users_Pct'."
   ]
  },
  {
   "cell_type": "code",
   "execution_count": null,
   "id": "8c9f453d-0dfa-4a29-9151-dfe21e830386",
   "metadata": {},
   "outputs": [],
   "source": [
    "\n",
    "internet_df = internet_df.drop(columns = ['Value Footnotes'])\n",
    "\n",
    "internet_df.columns = ['Country', 'Year','Internet_Users_Pct']"
   ]
  },
  {
   "cell_type": "code",
   "execution_count": null,
   "id": "dee647c4-46b9-4dfd-b191-b2bcbacc0c5d",
   "metadata": {},
   "outputs": [],
   "source": [
    "internet_df.head"
   ]
  },
  {
   "cell_type": "markdown",
   "id": "4e00b3b7-22c2-4788-a5f2-5758043f0eb5",
   "metadata": {},
   "source": [
    "16. Look at the number of observations in this dataset per year. What do you notice?"
   ]
  },
  {
   "cell_type": "code",
   "execution_count": null,
   "id": "e1cb1b0d-6e84-49f7-a8f5-b04b5299d45c",
   "metadata": {},
   "outputs": [],
   "source": [
    "internet_df.Country.value_counts()"
   ]
  },
  {
   "cell_type": "code",
   "execution_count": null,
   "id": "bcbfa218-abef-43e1-a50c-9d498bc8d7f0",
   "metadata": {},
   "outputs": [],
   "source": [
    "internet_df.Year.value_counts()"
   ]
  },
  {
   "cell_type": "markdown",
   "id": "02fe7881-c346-46a1-a3d6-8494d73c3177",
   "metadata": {},
   "source": [
    "Internet users for 2023 reported a record low."
   ]
  },
  {
   "cell_type": "markdown",
   "id": "e3194f9a-02a1-4929-863e-5ffc9ae80a55",
   "metadata": {},
   "source": [
    "17. What is the first year to have a non-zero internet users percentage value?"
   ]
  },
  {
   "cell_type": "code",
   "execution_count": null,
   "id": "97940fb9-a550-4f4c-96e1-2a88462dc2a3",
   "metadata": {},
   "outputs": [],
   "source": [
    "internet_df\n"
   ]
  },
  {
   "cell_type": "code",
   "execution_count": null,
   "id": "6bc39281-b014-44b8-a64a-e101ff5e23c0",
   "metadata": {},
   "outputs": [],
   "source": [
    "first_year_not_zero = internet_df.loc[internet_df['Internet_Users_Pct'] > 0, 'Year'].iloc[0]\n",
    "\n",
    "first_year_not_zero\n"
   ]
  },
  {
   "cell_type": "markdown",
   "id": "36c0dd87-bf0f-4cbf-a5af-4a7d995ffaf3",
   "metadata": {},
   "source": [
    "18. How does the distribution of internet users percent differ for 2000 and 2014?"
   ]
  },
  {
   "cell_type": "code",
   "execution_count": null,
   "id": "5d728b8c-2e87-4873-9a00-7061bd8ed17e",
   "metadata": {},
   "outputs": [],
   "source": [
    "internet_df['Year'].value_counts().sort_index()"
   ]
  },
  {
   "cell_type": "code",
   "execution_count": null,
   "id": "3f5782dd-7668-4f48-bbf0-39d055d112bd",
   "metadata": {},
   "outputs": [],
   "source": [
    "internet_df['Internet_Users_Pct'].value_counts().sort_index()"
   ]
  },
  {
   "cell_type": "code",
   "execution_count": null,
   "id": "d77cd659-f4d8-4f51-b2e4-b594579d773b",
   "metadata": {},
   "outputs": [],
   "source": []
  }
 ],
 "metadata": {
  "kernelspec": {
   "display_name": "Python 3 (ipykernel)",
   "language": "python",
   "name": "python3"
  },
  "language_info": {
   "codemirror_mode": {
    "name": "ipython",
    "version": 3
   },
   "file_extension": ".py",
   "mimetype": "text/x-python",
   "name": "python",
   "nbconvert_exporter": "python",
   "pygments_lexer": "ipython3",
   "version": "3.11.7"
  }
 },
 "nbformat": 4,
 "nbformat_minor": 5
}
